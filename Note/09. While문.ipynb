{
 "cells": [
  {
   "cell_type": "code",
   "execution_count": 3,
   "metadata": {},
   "outputs": [
    {
     "name": "stdout",
     "output_type": "stream",
     "text": [
      "나무를 1번 찍었습니다.\n",
      "나무를 2번 찍었습니다.\n",
      "나무를 3번 찍었습니다.\n",
      "나무를 4번 찍었습니다.\n",
      "나무를 5번 찍었습니다.\n",
      "나무를 6번 찍었습니다.\n",
      "나무를 7번 찍었습니다.\n",
      "나무를 8번 찍었습니다.\n",
      "나무를 9번 찍었습니다.\n",
      "나무를 10번 찍었습니다.\n",
      "나무 넘어 갑니다.\n"
     ]
    }
   ],
   "source": [
    "treeHit = 0\n",
    "\n",
    "while treeHit < 10:\n",
    "    treeHit += 1\n",
    "    print(\"나무를 %d번 찍었습니다.\"%treeHit)\n",
    "    if treeHit == 10:\n",
    "        print(\"나무 넘어 갑니다.\")"
   ]
  },
  {
   "cell_type": "code",
   "execution_count": 2,
   "metadata": {},
   "outputs": [],
   "source": [
    "prompt = \"\"\"\n",
    "1. 덧셈\n",
    "2. 뺄셈\n",
    "3. 곱셈\n",
    "4. 나눗셈\n",
    "5. 종료\n",
    "\n",
    "숫자를 입력하세요 :\n",
    "\"\"\""
   ]
  },
  {
   "cell_type": "code",
   "execution_count": 3,
   "metadata": {},
   "outputs": [
    {
     "name": "stdout",
     "output_type": "stream",
     "text": [
      "\n",
      "1. 덧셈\n",
      "2. 뺄셈\n",
      "3. 곱셈\n",
      "4. 나눗셈\n",
      "5. 종료\n",
      "\n",
      "숫자를 입력하세요 :\n",
      "\n",
      "12\n",
      "\n",
      "1. 덧셈\n",
      "2. 뺄셈\n",
      "3. 곱셈\n",
      "4. 나눗셈\n",
      "5. 종료\n",
      "\n",
      "숫자를 입력하세요 :\n",
      "\n",
      "5\n"
     ]
    }
   ],
   "source": [
    "number = 0\n",
    "while number != 5:\n",
    "    print(prompt)\n",
    "    number = int(input())"
   ]
  },
  {
   "cell_type": "code",
   "execution_count": 4,
   "metadata": {},
   "outputs": [
    {
     "name": "stdout",
     "output_type": "stream",
     "text": [
      "0\n",
      "1\n",
      "2\n",
      "3\n",
      "4\n"
     ]
    }
   ],
   "source": [
    "# break문을 사용하기\n",
    "\n",
    "var = 0\n",
    "while var < 10:\n",
    "    print(var)\n",
    "    var += 1\n",
    "    if var == 5 :\n",
    "        break;"
   ]
  },
  {
   "cell_type": "code",
   "execution_count": 6,
   "metadata": {},
   "outputs": [
    {
     "name": "stdout",
     "output_type": "stream",
     "text": [
      "1\n",
      "2\n",
      "3\n",
      "4\n",
      "6\n",
      "7\n",
      "8\n",
      "9\n",
      "10\n"
     ]
    }
   ],
   "source": [
    "# continue\n",
    "# 10보다 작은 수 중 5인 경우에만 출력 안하고 나머지 숫자는 출력하기   continue : 다음 문장 안하고 바로 while로 가서 이어서 진행\n",
    "\n",
    "var = 0\n",
    "while var < 10:\n",
    "    var += 1\n",
    "    if var == 5 :\n",
    "        continue\n",
    "    print(var)"
   ]
  },
  {
   "cell_type": "code",
   "execution_count": 7,
   "metadata": {},
   "outputs": [
    {
     "name": "stdout",
     "output_type": "stream",
     "text": [
      "1\n",
      "3\n",
      "5\n",
      "7\n",
      "9\n"
     ]
    }
   ],
   "source": [
    "# continue문을 사용하여 1-10 수중 홀수만 출력하기\n",
    "\n",
    "var = 0\n",
    "while var < 10:\n",
    "    var += 1\n",
    "    if var % 2 == 0 :\n",
    "        continue\n",
    "    print(var)\n"
   ]
  },
  {
   "cell_type": "code",
   "execution_count": 10,
   "metadata": {},
   "outputs": [
    {
     "name": "stdout",
     "output_type": "stream",
     "text": [
      "노력\n",
      "우수\n",
      "우수\n",
      "노력\n"
     ]
    }
   ],
   "source": [
    "# 점수가 80점 이상이면 우수, 나머지는 노력으로 출력하고 점수는 남겨 둘 것.\n",
    "\n",
    "scores = [70,85,95,65]\n",
    "var = 0\n",
    "\n",
    "while var < len(scores) :\n",
    "    if scores[var] >= 80 :\n",
    "        print(\"우수\")\n",
    "        var += 1\n",
    "        continue\n",
    "    print(\"노력\")\n",
    "    var += 1"
   ]
  },
  {
   "cell_type": "code",
   "execution_count": 12,
   "metadata": {},
   "outputs": [
    {
     "name": "stdout",
     "output_type": "stream",
     "text": [
      "노력\n",
      "우수\n",
      "우수\n",
      "노력\n"
     ]
    }
   ],
   "source": [
    "# 점수가 80점 이상이면 우수, 나머지는 노력으로 출력하고 점수는 남겨 둘 것.\n",
    "\n",
    "scores = [70,85,95,65]\n",
    "var = 0\n",
    "\n",
    "while var < len(scores) :\n",
    "    if scores[var] >= 80 :\n",
    "        print(\"우수\")\n",
    "    else : print(\"노력\")\n",
    "    var += 1"
   ]
  },
  {
   "cell_type": "code",
   "execution_count": 14,
   "metadata": {},
   "outputs": [
    {
     "name": "stdout",
     "output_type": "stream",
     "text": [
      "노력\n",
      "우수\n",
      "우수\n",
      "노력\n"
     ]
    }
   ],
   "source": [
    "# 점수가 80점 이상이면 우수, 나머지는 노력으로 출력하고 점수는 남겨 둘 것.\n",
    "\n",
    "scores = [70,85,95,65]\n",
    "\n",
    "for i in scores :\n",
    "    if i >= 80 :\n",
    "        print(\"우수\")\n",
    "    else : print(\"노력\")"
   ]
  },
  {
   "cell_type": "code",
   "execution_count": 16,
   "metadata": {},
   "outputs": [
    {
     "name": "stdout",
     "output_type": "stream",
     "text": [
      "노력\n",
      "노력\n",
      "우수\n",
      "우수\n"
     ]
    }
   ],
   "source": [
    "# 점수가 80점 이상이면 우수, 나머지는 노력으로 출력하기 Pop() 사용\n",
    "\n",
    "\n",
    "scores = [78,65,95,85]\n",
    "\n",
    "while scores :\n",
    "    if scores.pop(0) >= 80 :\n",
    "        print(\"우수\")\n",
    "    else : print(\"노력\")\n",
    "    \n"
   ]
  },
  {
   "cell_type": "code",
   "execution_count": 20,
   "metadata": {},
   "outputs": [
    {
     "name": "stdout",
     "output_type": "stream",
     "text": [
      "80.75\n"
     ]
    }
   ],
   "source": [
    "# 평균 구하기\n",
    "\n",
    "scores = [78,65,95,85]\n",
    "sum = 0\n",
    "count = len(scores)\n",
    "\n",
    "while scores :\n",
    "    sum += scores.pop()\n",
    "\n",
    "print(sum/count)"
   ]
  },
  {
   "cell_type": "code",
   "execution_count": 21,
   "metadata": {},
   "outputs": [
    {
     "name": "stdout",
     "output_type": "stream",
     "text": [
      "80.75\n"
     ]
    }
   ],
   "source": [
    "# 평균 구하기\n",
    "import numpy as np\n",
    "\n",
    "scores = [78,65,95,85]\n",
    "\n",
    "print(np.average(scores))"
   ]
  },
  {
   "cell_type": "code",
   "execution_count": 33,
   "metadata": {},
   "outputs": [
    {
     "name": "stdout",
     "output_type": "stream",
     "text": [
      "10.917302780449024\n"
     ]
    }
   ],
   "source": [
    "#표준 편차 구하기\n",
    "\n",
    "import math\n",
    "\n",
    "scores = [78,65,95,85]\n",
    "\n",
    "size = len(scores)\n",
    "\n",
    "avg = 0;\n",
    "for i in scores :\n",
    "    avg += i/size\n",
    "\n",
    "var = 0;\n",
    "for i in scores :\n",
    "    var += ((i - avg)**2)/size\n",
    "    \n",
    "    \n",
    "print(math.sqrt(var))\n",
    "\n"
   ]
  },
  {
   "cell_type": "code",
   "execution_count": 34,
   "metadata": {},
   "outputs": [
    {
     "data": {
      "text/plain": [
       "10.917302780449024"
      ]
     },
     "execution_count": 34,
     "metadata": {},
     "output_type": "execute_result"
    }
   ],
   "source": [
    "#표준 편차 구하기\n",
    "\n",
    "import numpy as np\n",
    "\n",
    "scores = [78,65,95,85]\n",
    "\n",
    "np.std(scores)"
   ]
  },
  {
   "cell_type": "code",
   "execution_count": null,
   "metadata": {},
   "outputs": [],
   "source": []
  },
  {
   "cell_type": "code",
   "execution_count": null,
   "metadata": {},
   "outputs": [],
   "source": []
  },
  {
   "cell_type": "code",
   "execution_count": null,
   "metadata": {},
   "outputs": [],
   "source": []
  }
 ],
 "metadata": {
  "kernelspec": {
   "display_name": "Python 3",
   "language": "python",
   "name": "python3"
  },
  "language_info": {
   "codemirror_mode": {
    "name": "ipython",
    "version": 3
   },
   "file_extension": ".py",
   "mimetype": "text/x-python",
   "name": "python",
   "nbconvert_exporter": "python",
   "pygments_lexer": "ipython3",
   "version": "3.8.3"
  }
 },
 "nbformat": 4,
 "nbformat_minor": 4
}
