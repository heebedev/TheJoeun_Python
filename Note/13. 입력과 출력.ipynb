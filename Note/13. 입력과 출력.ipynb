{
 "cells": [
  {
   "cell_type": "code",
   "execution_count": 1,
   "metadata": {},
   "outputs": [],
   "source": [
    "# 파일을 쓰기모드로 열어 출력값 저장하기\n",
    "\n",
    "f = open(\"../Data/new.txt\", \"w\")\n",
    "for i in range(1,11) :\n",
    "    data = \"%d번째 줄 입니다.\\n\"%i\n",
    "    f.write(data)\n",
    "f.close()"
   ]
  },
  {
   "cell_type": "code",
   "execution_count": 3,
   "metadata": {},
   "outputs": [
    {
     "name": "stdout",
     "output_type": "stream",
     "text": [
      "1번째 줄 입니다.\n",
      "2번째 줄 입니다.\n",
      "3번째 줄 입니다.\n",
      "4번째 줄 입니다.\n",
      "5번째 줄 입니다.\n",
      "6번째 줄 입니다.\n",
      "7번째 줄 입니다.\n",
      "8번째 줄 입니다.\n",
      "9번째 줄 입니다.\n",
      "10번째 줄 입니다.\n"
     ]
    }
   ],
   "source": [
    "# 파일을 읽기모드로 열어 파일 출력하기 (#1)  - 한 줄씩 가져와서 보여주기\n",
    "f = open(\"../Data/new.txt\", \"r\")\n",
    "while True :\n",
    "    line = f.readline()\n",
    "    if not line :\n",
    "        break\n",
    "    print(line, end=\"\")\n",
    "f.close()"
   ]
  },
  {
   "cell_type": "code",
   "execution_count": 5,
   "metadata": {},
   "outputs": [
    {
     "name": "stdout",
     "output_type": "stream",
     "text": [
      "1번째 줄 입니다.\n",
      "2번째 줄 입니다.\n",
      "3번째 줄 입니다.\n",
      "4번째 줄 입니다.\n",
      "5번째 줄 입니다.\n",
      "6번째 줄 입니다.\n",
      "7번째 줄 입니다.\n",
      "8번째 줄 입니다.\n",
      "9번째 줄 입니다.\n",
      "10번째 줄 입니다.\n"
     ]
    }
   ],
   "source": [
    "# 파일을 읽기모드로 열어 파일 출력하기 (#2) - 한 줄씩 리스트로 저장해서 보여주기\n",
    "f = open(\"../Data/new.txt\", \"r\")\n",
    "lines = f.read()\n",
    "for line in lines :\n",
    "    print(line, end=\"\")\n",
    "f.close()"
   ]
  },
  {
   "cell_type": "code",
   "execution_count": 6,
   "metadata": {},
   "outputs": [
    {
     "name": "stdout",
     "output_type": "stream",
     "text": [
      "1번째 줄 입니다.\n",
      "2번째 줄 입니다.\n",
      "3번째 줄 입니다.\n",
      "4번째 줄 입니다.\n",
      "5번째 줄 입니다.\n",
      "6번째 줄 입니다.\n",
      "7번째 줄 입니다.\n",
      "8번째 줄 입니다.\n",
      "9번째 줄 입니다.\n",
      "10번째 줄 입니다.\n",
      "\n"
     ]
    }
   ],
   "source": [
    "# 파일을 읽기모드로 열어 파일 출력하기 (#3) - 통째로 가져와서 보여주기 (if문 for문 등 사용 불가)\n",
    "\n",
    "f = open(\"../Data/new.txt\", \"r\")\n",
    "data = f.read()\n",
    "print(data)\n",
    "f.close()"
   ]
  },
  {
   "cell_type": "code",
   "execution_count": 7,
   "metadata": {},
   "outputs": [
    {
     "data": {
      "text/plain": [
       "str"
      ]
     },
     "execution_count": 7,
     "metadata": {},
     "output_type": "execute_result"
    }
   ],
   "source": [
    "type(data)"
   ]
  },
  {
   "cell_type": "code",
   "execution_count": 8,
   "metadata": {},
   "outputs": [],
   "source": [
    "#파일에 새로운 내용 추가하기\n",
    "f = open(\"../Data/new.txt\", \"a\")  # 기존 내용에 추가할때는 append의 a\n",
    "\n",
    "for i in range (11,21) :\n",
    "    data = \"%d번째 줄 입니다.\\n\"%i\n",
    "    f.write(data)\n",
    "f.close()"
   ]
  },
  {
   "cell_type": "code",
   "execution_count": 9,
   "metadata": {},
   "outputs": [
    {
     "name": "stdout",
     "output_type": "stream",
     "text": [
      "1번째 줄 입니다.\n",
      "2번째 줄 입니다.\n",
      "3번째 줄 입니다.\n",
      "4번째 줄 입니다.\n",
      "5번째 줄 입니다.\n",
      "6번째 줄 입니다.\n",
      "7번째 줄 입니다.\n",
      "8번째 줄 입니다.\n",
      "9번째 줄 입니다.\n",
      "10번째 줄 입니다.\n",
      "11번째 줄 입니다.\n",
      "12번째 줄 입니다.\n",
      "13번째 줄 입니다.\n",
      "14번째 줄 입니다.\n",
      "15번째 줄 입니다.\n",
      "16번째 줄 입니다.\n",
      "17번째 줄 입니다.\n",
      "18번째 줄 입니다.\n",
      "19번째 줄 입니다.\n",
      "20번째 줄 입니다.\n",
      "\n"
     ]
    }
   ],
   "source": [
    "f = open(\"../Data/new.txt\", \"r\")\n",
    "data = f.read()\n",
    "print(data)\n",
    "f.close()"
   ]
  },
  {
   "cell_type": "markdown",
   "metadata": {},
   "source": [
    "### with문 (3.0버전) : with문을 벗어나면 자동으로 close()"
   ]
  },
  {
   "cell_type": "code",
   "execution_count": 10,
   "metadata": {},
   "outputs": [],
   "source": [
    "# 파일 만들기\n",
    "with open(\"../Data/new2.txt\", \"w\") as f :\n",
    "    for i in range(1,11) :\n",
    "        data = \"%d번째 줄 입니다.\\n\"%i\n",
    "        f.write(data)"
   ]
  },
  {
   "cell_type": "code",
   "execution_count": 11,
   "metadata": {},
   "outputs": [
    {
     "name": "stdout",
     "output_type": "stream",
     "text": [
      "1번째 줄 입니다.\n",
      "2번째 줄 입니다.\n",
      "3번째 줄 입니다.\n",
      "4번째 줄 입니다.\n",
      "5번째 줄 입니다.\n",
      "6번째 줄 입니다.\n",
      "7번째 줄 입니다.\n",
      "8번째 줄 입니다.\n",
      "9번째 줄 입니다.\n",
      "10번째 줄 입니다.\n",
      "\n"
     ]
    }
   ],
   "source": [
    "# 파일 읽기\n",
    "with open(\"../Data/new2.txt\", \"r\") as f :\n",
    "    data = f.read()\n",
    "    print(data)"
   ]
  },
  {
   "cell_type": "markdown",
   "metadata": {},
   "source": [
    "## Pandas로 불러오기"
   ]
  },
  {
   "cell_type": "code",
   "execution_count": 12,
   "metadata": {},
   "outputs": [],
   "source": [
    "import pandas as pd"
   ]
  },
  {
   "cell_type": "code",
   "execution_count": 14,
   "metadata": {},
   "outputs": [
    {
     "data": {
      "text/html": [
       "<div>\n",
       "<style scoped>\n",
       "    .dataframe tbody tr th:only-of-type {\n",
       "        vertical-align: middle;\n",
       "    }\n",
       "\n",
       "    .dataframe tbody tr th {\n",
       "        vertical-align: top;\n",
       "    }\n",
       "\n",
       "    .dataframe thead th {\n",
       "        text-align: right;\n",
       "    }\n",
       "</style>\n",
       "<table border=\"1\" class=\"dataframe\">\n",
       "  <thead>\n",
       "    <tr style=\"text-align: right;\">\n",
       "      <th></th>\n",
       "      <th>0</th>\n",
       "    </tr>\n",
       "  </thead>\n",
       "  <tbody>\n",
       "    <tr>\n",
       "      <th>0</th>\n",
       "      <td>1번째 줄 입니다.</td>\n",
       "    </tr>\n",
       "    <tr>\n",
       "      <th>1</th>\n",
       "      <td>2번째 줄 입니다.</td>\n",
       "    </tr>\n",
       "    <tr>\n",
       "      <th>2</th>\n",
       "      <td>3번째 줄 입니다.</td>\n",
       "    </tr>\n",
       "    <tr>\n",
       "      <th>3</th>\n",
       "      <td>4번째 줄 입니다.</td>\n",
       "    </tr>\n",
       "    <tr>\n",
       "      <th>4</th>\n",
       "      <td>5번째 줄 입니다.</td>\n",
       "    </tr>\n",
       "  </tbody>\n",
       "</table>\n",
       "</div>"
      ],
      "text/plain": [
       "            0\n",
       "0  1번째 줄 입니다.\n",
       "1  2번째 줄 입니다.\n",
       "2  3번째 줄 입니다.\n",
       "3  4번째 줄 입니다.\n",
       "4  5번째 줄 입니다."
      ]
     },
     "execution_count": 14,
     "metadata": {},
     "output_type": "execute_result"
    }
   ],
   "source": [
    "txtSample = pd.read_table(\"../Data/new.txt\", header=None)\n",
    "txtSample.head()"
   ]
  },
  {
   "cell_type": "code",
   "execution_count": 17,
   "metadata": {},
   "outputs": [],
   "source": [
    "# txt file로 저장하기\n",
    "\n",
    "txtSample.to_string(\"../Data/sample_file.txt\", index=False, header=None)"
   ]
  },
  {
   "cell_type": "code",
   "execution_count": null,
   "metadata": {},
   "outputs": [],
   "source": []
  }
 ],
 "metadata": {
  "kernelspec": {
   "display_name": "Python 3",
   "language": "python",
   "name": "python3"
  },
  "language_info": {
   "codemirror_mode": {
    "name": "ipython",
    "version": 3
   },
   "file_extension": ".py",
   "mimetype": "text/x-python",
   "name": "python",
   "nbconvert_exporter": "python",
   "pygments_lexer": "ipython3",
   "version": "3.8.3"
  }
 },
 "nbformat": 4,
 "nbformat_minor": 4
}
