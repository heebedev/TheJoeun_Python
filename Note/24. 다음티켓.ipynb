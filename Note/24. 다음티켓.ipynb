{
 "cells": [
  {
   "cell_type": "markdown",
   "metadata": {},
   "source": [
    "# 다음 영화 예매율"
   ]
  },
  {
   "cell_type": "raw",
   "metadata": {},
   "source": [
    "http://movie.daum.net/premovie/released"
   ]
  },
  {
   "cell_type": "code",
   "execution_count": 1,
   "metadata": {},
   "outputs": [],
   "source": [
    "from bs4 import BeautifulSoup\n",
    "from urllib.request import urlopen\n",
    "import pandas as pd"
   ]
  },
  {
   "cell_type": "code",
   "execution_count": 2,
   "metadata": {},
   "outputs": [],
   "source": [
    "url = \"http://movie.daum.net/premovie/released\"\n",
    "page = urlopen(url)\n",
    "soup = BeautifulSoup(page,'html.parser')"
   ]
  },
  {
   "cell_type": "markdown",
   "metadata": {},
   "source": [
    "----\n",
    "### 테스트"
   ]
  },
  {
   "cell_type": "raw",
   "metadata": {},
   "source": [
    "<a href=\"/moviedb/main?movieId=127897\" class=\"name_movie\" data-tiara-layer=\"moviename\" data-tiara-ordnum=\"1\" data-tiara-id=\"127897\" data-tiara-type=\"movie\">다만 악에서 구하소서</a>\n",
    "#mArticle > ul.list_movie > li:nth-child(1) > div.wrap_movie > div > a\n",
    "#mArticle > ul.list_movie > li:nth-child(2) > div.wrap_movie > div > a\n",
    "#mArticle > ul.list_movie > li:nth-child(3) > div.wrap_movie > span.info_state"
   ]
  },
  {
   "cell_type": "code",
   "execution_count": 29,
   "metadata": {},
   "outputs": [
    {
     "data": {
      "text/plain": [
       "'다만 악에서 구하소서'"
      ]
     },
     "execution_count": 29,
     "metadata": {},
     "output_type": "execute_result"
    }
   ],
   "source": [
    "soup.select(\"a.link_g\")[2].string"
   ]
  },
  {
   "cell_type": "markdown",
   "metadata": {},
   "source": [
    "### 테스트 완료"
   ]
  },
  {
   "cell_type": "code",
   "execution_count": 33,
   "metadata": {},
   "outputs": [
    {
     "name": "stdout",
     "output_type": "stream",
     "text": [
      "1 다만 악에서 구하소서\n",
      "2 오케이 마담\n",
      "3 강철비2: 정상회담\n",
      "4 인셉션\n",
      "5 반도\n",
      "6 반교: 디텐션\n",
      "7 워터 릴리스\n",
      "8 작은 소망\n",
      "9 더 프린세스 : 도둑맞은 공주\n",
      "10 부다페스트 스토리\n",
      "11 빅샤크3: 젤리몬스터 대소동\n",
      "12 마티아스와 막심\n",
      "13 애니멀 크래커\n",
      "14 어서오시게스트하우스\n",
      "15 셰이프 오브 뮤직: 알렉상드르 데스플라\n",
      "16 소년시절의 너\n",
      "17 킬러맨\n",
      "18 블랙아웃: 인베이젼 어스\n",
      "19 카오산 탱고\n",
      "20 엘라 벨라 빙고: 친구 찾기 대작전\n"
     ]
    }
   ],
   "source": [
    "#예매율 영화제목 추출하기\n",
    "\n",
    "li_lists = soup.select(\"a.link_g\")[2:]\n",
    "count = 0\n",
    "titleLists = [] #영화제목 Lists\n",
    "countLists = [] #예매율 순위 Lists\n",
    "\n",
    "for li in li_lists :\n",
    "    count += 1\n",
    "    print(count, li.string.strip())\n",
    "    countLists.append(count)\n",
    "    titleLists.append(li.string.strip())"
   ]
  },
  {
   "cell_type": "code",
   "execution_count": 34,
   "metadata": {},
   "outputs": [
    {
     "name": "stdout",
     "output_type": "stream",
     "text": [
      "[1, 2, 3, 4, 5, 6, 7, 8, 9, 10, 11, 12, 13, 14, 15, 16, 17, 18, 19, 20]\n",
      "['다만 악에서 구하소서', '오케이 마담', '강철비2: 정상회담', '인셉션', '반도', '반교: 디텐션', '워터 릴리스', '작은 소망', '더 프린세스 : 도둑맞은 공주', '부다페스트 스토리', '빅샤크3: 젤리몬스터 대소동', '마티아스와 막심', '애니멀 크래커', '어서오시게스트하우스', '셰이프 오브 뮤직: 알렉상드르 데스플라', '소년시절의 너', '킬러맨', '블랙아웃: 인베이젼 어스', '카오산 탱고', '엘라 벨라 빙고: 친구 찾기 대작전']\n"
     ]
    }
   ],
   "source": [
    "print(countLists)\n",
    "print(titleLists)"
   ]
  },
  {
   "cell_type": "code",
   "execution_count": 35,
   "metadata": {},
   "outputs": [],
   "source": [
    "#countLists 만으로 Datafram 생성\n",
    "df = pd.DataFrame(data = countLists, columns=['Index'])"
   ]
  },
  {
   "cell_type": "code",
   "execution_count": 36,
   "metadata": {},
   "outputs": [
    {
     "data": {
      "text/html": [
       "<div>\n",
       "<style scoped>\n",
       "    .dataframe tbody tr th:only-of-type {\n",
       "        vertical-align: middle;\n",
       "    }\n",
       "\n",
       "    .dataframe tbody tr th {\n",
       "        vertical-align: top;\n",
       "    }\n",
       "\n",
       "    .dataframe thead th {\n",
       "        text-align: right;\n",
       "    }\n",
       "</style>\n",
       "<table border=\"1\" class=\"dataframe\">\n",
       "  <thead>\n",
       "    <tr style=\"text-align: right;\">\n",
       "      <th></th>\n",
       "      <th>Index</th>\n",
       "      <th>Titles</th>\n",
       "    </tr>\n",
       "  </thead>\n",
       "  <tbody>\n",
       "    <tr>\n",
       "      <th>0</th>\n",
       "      <td>1</td>\n",
       "      <td>다만 악에서 구하소서</td>\n",
       "    </tr>\n",
       "    <tr>\n",
       "      <th>1</th>\n",
       "      <td>2</td>\n",
       "      <td>오케이 마담</td>\n",
       "    </tr>\n",
       "    <tr>\n",
       "      <th>2</th>\n",
       "      <td>3</td>\n",
       "      <td>강철비2: 정상회담</td>\n",
       "    </tr>\n",
       "    <tr>\n",
       "      <th>3</th>\n",
       "      <td>4</td>\n",
       "      <td>인셉션</td>\n",
       "    </tr>\n",
       "    <tr>\n",
       "      <th>4</th>\n",
       "      <td>5</td>\n",
       "      <td>반도</td>\n",
       "    </tr>\n",
       "    <tr>\n",
       "      <th>5</th>\n",
       "      <td>6</td>\n",
       "      <td>반교: 디텐션</td>\n",
       "    </tr>\n",
       "    <tr>\n",
       "      <th>6</th>\n",
       "      <td>7</td>\n",
       "      <td>워터 릴리스</td>\n",
       "    </tr>\n",
       "    <tr>\n",
       "      <th>7</th>\n",
       "      <td>8</td>\n",
       "      <td>작은 소망</td>\n",
       "    </tr>\n",
       "    <tr>\n",
       "      <th>8</th>\n",
       "      <td>9</td>\n",
       "      <td>더 프린세스 : 도둑맞은 공주</td>\n",
       "    </tr>\n",
       "    <tr>\n",
       "      <th>9</th>\n",
       "      <td>10</td>\n",
       "      <td>부다페스트 스토리</td>\n",
       "    </tr>\n",
       "    <tr>\n",
       "      <th>10</th>\n",
       "      <td>11</td>\n",
       "      <td>빅샤크3: 젤리몬스터 대소동</td>\n",
       "    </tr>\n",
       "    <tr>\n",
       "      <th>11</th>\n",
       "      <td>12</td>\n",
       "      <td>마티아스와 막심</td>\n",
       "    </tr>\n",
       "    <tr>\n",
       "      <th>12</th>\n",
       "      <td>13</td>\n",
       "      <td>애니멀 크래커</td>\n",
       "    </tr>\n",
       "    <tr>\n",
       "      <th>13</th>\n",
       "      <td>14</td>\n",
       "      <td>어서오시게스트하우스</td>\n",
       "    </tr>\n",
       "    <tr>\n",
       "      <th>14</th>\n",
       "      <td>15</td>\n",
       "      <td>셰이프 오브 뮤직: 알렉상드르 데스플라</td>\n",
       "    </tr>\n",
       "    <tr>\n",
       "      <th>15</th>\n",
       "      <td>16</td>\n",
       "      <td>소년시절의 너</td>\n",
       "    </tr>\n",
       "    <tr>\n",
       "      <th>16</th>\n",
       "      <td>17</td>\n",
       "      <td>킬러맨</td>\n",
       "    </tr>\n",
       "    <tr>\n",
       "      <th>17</th>\n",
       "      <td>18</td>\n",
       "      <td>블랙아웃: 인베이젼 어스</td>\n",
       "    </tr>\n",
       "    <tr>\n",
       "      <th>18</th>\n",
       "      <td>19</td>\n",
       "      <td>카오산 탱고</td>\n",
       "    </tr>\n",
       "    <tr>\n",
       "      <th>19</th>\n",
       "      <td>20</td>\n",
       "      <td>엘라 벨라 빙고: 친구 찾기 대작전</td>\n",
       "    </tr>\n",
       "  </tbody>\n",
       "</table>\n",
       "</div>"
      ],
      "text/plain": [
       "    Index                 Titles\n",
       "0       1            다만 악에서 구하소서\n",
       "1       2                 오케이 마담\n",
       "2       3             강철비2: 정상회담\n",
       "3       4                    인셉션\n",
       "4       5                     반도\n",
       "5       6                반교: 디텐션\n",
       "6       7                 워터 릴리스\n",
       "7       8                  작은 소망\n",
       "8       9       더 프린세스 : 도둑맞은 공주\n",
       "9      10              부다페스트 스토리\n",
       "10     11        빅샤크3: 젤리몬스터 대소동\n",
       "11     12               마티아스와 막심\n",
       "12     13                애니멀 크래커\n",
       "13     14             어서오시게스트하우스\n",
       "14     15  셰이프 오브 뮤직: 알렉상드르 데스플라\n",
       "15     16                소년시절의 너\n",
       "16     17                    킬러맨\n",
       "17     18          블랙아웃: 인베이젼 어스\n",
       "18     19                 카오산 탱고\n",
       "19     20    엘라 벨라 빙고: 친구 찾기 대작전"
      ]
     },
     "execution_count": 36,
     "metadata": {},
     "output_type": "execute_result"
    }
   ],
   "source": [
    "# 기존 dataframe에 컬럼과 List 추가\n",
    "df['Titles'] = titleLists\n",
    "df"
   ]
  },
  {
   "cell_type": "code",
   "execution_count": 37,
   "metadata": {},
   "outputs": [],
   "source": [
    "# csv wjwkd\n",
    "df.to_csv(\"../Data/DaumList_2020_08_18.csv\", index=False)"
   ]
  },
  {
   "cell_type": "code",
   "execution_count": null,
   "metadata": {},
   "outputs": [],
   "source": []
  },
  {
   "cell_type": "code",
   "execution_count": null,
   "metadata": {},
   "outputs": [],
   "source": []
  },
  {
   "cell_type": "code",
   "execution_count": null,
   "metadata": {},
   "outputs": [],
   "source": []
  },
  {
   "cell_type": "code",
   "execution_count": null,
   "metadata": {},
   "outputs": [],
   "source": []
  }
 ],
 "metadata": {
  "kernelspec": {
   "display_name": "Python 3",
   "language": "python",
   "name": "python3"
  },
  "language_info": {
   "codemirror_mode": {
    "name": "ipython",
    "version": 3
   },
   "file_extension": ".py",
   "mimetype": "text/x-python",
   "name": "python",
   "nbconvert_exporter": "python",
   "pygments_lexer": "ipython3",
   "version": "3.8.3"
  }
 },
 "nbformat": 4,
 "nbformat_minor": 4
}
