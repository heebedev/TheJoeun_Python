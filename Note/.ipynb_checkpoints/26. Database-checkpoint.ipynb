{
 "cells": [
  {
   "cell_type": "markdown",
   "metadata": {},
   "source": [
    "# MySQL 연결\n",
    ":pip install pymysql"
   ]
  },
  {
   "cell_type": "code",
   "execution_count": 1,
   "metadata": {},
   "outputs": [
    {
     "name": "stdout",
     "output_type": "stream",
     "text": [
      "Collecting pymysql\n",
      "  Downloading PyMySQL-0.10.0-py2.py3-none-any.whl (47 kB)\n",
      "\u001b[K     |████████████████████████████████| 47 kB 431 kB/s eta 0:00:011\n",
      "\u001b[?25hInstalling collected packages: pymysql\n",
      "Successfully installed pymysql-0.10.0\n",
      "Note: you may need to restart the kernel to use updated packages.\n"
     ]
    }
   ],
   "source": [
    "pip install pymysql"
   ]
  },
  {
   "cell_type": "code",
   "execution_count": 2,
   "metadata": {},
   "outputs": [],
   "source": [
    "import pymysql"
   ]
  },
  {
   "cell_type": "markdown",
   "metadata": {},
   "source": [
    "### useraddress schema에서 userinfo table 불러오기"
   ]
  },
  {
   "cell_type": "code",
   "execution_count": 98,
   "metadata": {},
   "outputs": [],
   "source": [
    "# MySql Connection\n",
    "conn = pymysql.connect(host=\"127.0.0.1\", user='root', password='qwer1234', db='useraddress', charset='utf8')"
   ]
  },
  {
   "cell_type": "code",
   "execution_count": 99,
   "metadata": {},
   "outputs": [],
   "source": [
    "# Connection으로부터 Cursor 생성\n",
    "curs = conn.cursor()"
   ]
  },
  {
   "cell_type": "code",
   "execution_count": 100,
   "metadata": {},
   "outputs": [
    {
     "data": {
      "text/plain": [
       "9"
      ]
     },
     "execution_count": 100,
     "metadata": {},
     "output_type": "execute_result"
    }
   ],
   "source": [
    "# SQL 문장\n",
    "sql = \"select * from userinfo\"\n",
    "curs.execute(sql)"
   ]
  },
  {
   "cell_type": "code",
   "execution_count": 101,
   "metadata": {},
   "outputs": [
    {
     "name": "stdout",
     "output_type": "stream",
     "text": [
      "((1, '김승희', '010-1111-2222', '서울시 은평구', 'zzeung@gmail.com', '본인'), (2, '이다겸', '010-2222-3333', '부산시', 'da@gmail.com', '친구'), (3, '정혜윤', '010-3333-4444', '부산시', 'yoon@gmail.com', '친구'), (4, '윤소윤', '010-4444-5555', '부산시', 'so@gamil.com', '친구'), (5, '신수진', '010-5555-6666', '부산시', 'jin@gmail.com', '친구'), (6, '안서현', '010-6666-7777', '서울시', 'seo@gmail.com', '친구'), (7, '문경희', '010-7777-8888', '서울시', 'moon@gmail.com', '친구'), (8, '양선주', '010-8888-9999', '부산시', 'joo@gmail.com', '친구'), (19, 'A22', '001-0001-0001', 'seoul', 'a22@naver.com', 'test2'))\n"
     ]
    }
   ],
   "source": [
    "# Data Fetch\n",
    "rows = curs.fetchall()\n",
    "print(rows)"
   ]
  },
  {
   "cell_type": "code",
   "execution_count": 102,
   "metadata": {},
   "outputs": [],
   "source": [
    "# Connection 종료\n",
    "conn.close()"
   ]
  },
  {
   "cell_type": "code",
   "execution_count": 103,
   "metadata": {},
   "outputs": [
    {
     "name": "stdout",
     "output_type": "stream",
     "text": [
      "[(1, '김승희', '010-1111-2222', '서울시 은평구', 'zzeung@gmail.com', '본인'), (2, '이다겸', '010-2222-3333', '부산시', 'da@gmail.com', '친구'), (3, '정혜윤', '010-3333-4444', '부산시', 'yoon@gmail.com', '친구'), (4, '윤소윤', '010-4444-5555', '부산시', 'so@gamil.com', '친구'), (5, '신수진', '010-5555-6666', '부산시', 'jin@gmail.com', '친구'), (6, '안서현', '010-6666-7777', '서울시', 'seo@gmail.com', '친구'), (7, '문경희', '010-7777-8888', '서울시', 'moon@gmail.com', '친구'), (8, '양선주', '010-8888-9999', '부산시', 'joo@gmail.com', '친구'), (19, 'A22', '001-0001-0001', 'seoul', 'a22@naver.com', 'test2')]\n"
     ]
    }
   ],
   "source": [
    "# List로 변환\n",
    "rowsList = list(rows)\n",
    "print(rowsList)"
   ]
  },
  {
   "cell_type": "code",
   "execution_count": 104,
   "metadata": {},
   "outputs": [
    {
     "name": "stdout",
     "output_type": "stream",
     "text": [
      "(1, '김승희', '010-1111-2222', '서울시 은평구', 'zzeung@gmail.com', '본인')\n",
      "김승희\n"
     ]
    }
   ],
   "source": [
    "#필요한 부분 데이터 가져오기\n",
    "print(rowsList[0])\n",
    "print(rowsList[0][1])"
   ]
  },
  {
   "cell_type": "markdown",
   "metadata": {},
   "source": [
    "### Insert Data #1"
   ]
  },
  {
   "cell_type": "code",
   "execution_count": 105,
   "metadata": {},
   "outputs": [],
   "source": [
    "# MySql connection\n",
    "conn = pymysql.connect(host=\"127.0.0.1\", user='root', password='qwer1234', db='useraddress', charset='utf8')\n",
    "\n",
    "# Connection으로부터 Cursor 생성\n",
    "curs = conn.cursor()"
   ]
  },
  {
   "cell_type": "code",
   "execution_count": 106,
   "metadata": {},
   "outputs": [],
   "source": [
    "# SQL 문장\n",
    "sql = \"insert into userinfo(name, telno, address, email, relation) values (%s, %s, %s, %s, %s)\""
   ]
  },
  {
   "cell_type": "code",
   "execution_count": 107,
   "metadata": {},
   "outputs": [
    {
     "data": {
      "text/plain": [
       "1"
      ]
     },
     "execution_count": 107,
     "metadata": {},
     "output_type": "execute_result"
    }
   ],
   "source": [
    "# insert 실행\n",
    "curs.execute(sql, ('AAA', '001-0001-0001', 'seoul', 'aaa@naver.com', 'test'))\n",
    "curs.execute(sql, ('BBB', '001-0002-0002', 'seoul', 'bbb@naver.com', 'test'))\n",
    "curs.execute(sql, ('CCC', '001-0003-0003', 'seoul', 'ccc@naver.com', 'test'))\n",
    "curs.execute(sql, ('DDD', '001-0004-0004', 'seoul', 'ddd@naver.com', 'test'))\n",
    "curs.execute(sql, ('FFF', '001-0005-0005', 'seoul', 'fff@naver.com', 'test'))"
   ]
  },
  {
   "cell_type": "code",
   "execution_count": 108,
   "metadata": {},
   "outputs": [],
   "source": [
    "conn.commit()"
   ]
  },
  {
   "cell_type": "code",
   "execution_count": 109,
   "metadata": {},
   "outputs": [
    {
     "name": "stdout",
     "output_type": "stream",
     "text": [
      "((1, '김승희', '010-1111-2222', '서울시 은평구', 'zzeung@gmail.com', '본인'), (2, '이다겸', '010-2222-3333', '부산시', 'da@gmail.com', '친구'), (3, '정혜윤', '010-3333-4444', '부산시', 'yoon@gmail.com', '친구'), (4, '윤소윤', '010-4444-5555', '부산시', 'so@gamil.com', '친구'), (5, '신수진', '010-5555-6666', '부산시', 'jin@gmail.com', '친구'), (6, '안서현', '010-6666-7777', '서울시', 'seo@gmail.com', '친구'), (7, '문경희', '010-7777-8888', '서울시', 'moon@gmail.com', '친구'), (8, '양선주', '010-8888-9999', '부산시', 'joo@gmail.com', '친구'), (19, 'A22', '001-0001-0001', 'seoul', 'a22@naver.com', 'test2'), (20, 'AAA', '001-0001-0001', 'seoul', 'aaa@naver.com', 'test'), (21, 'BBB', '001-0002-0002', 'seoul', 'bbb@naver.com', 'test'), (22, 'CCC', '001-0003-0003', 'seoul', 'ccc@naver.com', 'test'), (23, 'DDD', '001-0004-0004', 'seoul', 'ddd@naver.com', 'test'), (24, 'FFF', '001-0005-0005', 'seoul', 'fff@naver.com', 'test'))\n"
     ]
    }
   ],
   "source": [
    "# Data 보기\n",
    "sql = \"select * from userinfo\"\n",
    "curs.execute(sql)\n",
    "# Data Fetch\n",
    "rows = curs.fetchall()\n",
    "print(rows)"
   ]
  },
  {
   "cell_type": "code",
   "execution_count": 110,
   "metadata": {},
   "outputs": [],
   "source": [
    "# Connection 종료\n",
    "conn.close()"
   ]
  },
  {
   "cell_type": "markdown",
   "metadata": {},
   "source": [
    "---\n",
    "### Insert Data #2"
   ]
  },
  {
   "cell_type": "code",
   "execution_count": 111,
   "metadata": {},
   "outputs": [],
   "source": [
    "# MySql connection\n",
    "conn = pymysql.connect(host=\"127.0.0.1\", user='root', password='qwer1234', db='useraddress', charset='utf8')\n",
    "\n",
    "# Connection으로부터 Cursor 생성\n",
    "curs = conn.cursor()"
   ]
  },
  {
   "cell_type": "code",
   "execution_count": 112,
   "metadata": {},
   "outputs": [],
   "source": [
    "# Data\n",
    "data = (\n",
    "    ('A11', '001-0001-0001', 'seoul', 'a11@naver.com', 'test1'),\n",
    "    ('B11', '001-0002-0002', 'seoul', 'b11@naver.com', 'test1'),\n",
    "    ('C11', '001-0003-0003', 'seoul', 'c11@naver.com', 'test1'),\n",
    "    ('D11', '001-0004-0004', 'seoul', 'd11@naver.com', 'test1'),\n",
    "    ('F11', '001-0005-0005', 'seoul', 'f11@naver.com', 'test1')  \n",
    ")"
   ]
  },
  {
   "cell_type": "code",
   "execution_count": 114,
   "metadata": {},
   "outputs": [],
   "source": [
    "# SQL 문장\n",
    "sql = \"insert into userinfo(name, telno, address, email, relation) values (%s, %s, %s, %s, %s) \""
   ]
  },
  {
   "cell_type": "code",
   "execution_count": 115,
   "metadata": {},
   "outputs": [
    {
     "data": {
      "text/plain": [
       "5"
      ]
     },
     "execution_count": 115,
     "metadata": {},
     "output_type": "execute_result"
    }
   ],
   "source": [
    "# Insert 실행\n",
    "curs.executemany(sql, data)"
   ]
  },
  {
   "cell_type": "code",
   "execution_count": 116,
   "metadata": {},
   "outputs": [],
   "source": [
    "conn.commit()"
   ]
  },
  {
   "cell_type": "code",
   "execution_count": 117,
   "metadata": {},
   "outputs": [
    {
     "name": "stdout",
     "output_type": "stream",
     "text": [
      "((1, '김승희', '010-1111-2222', '서울시 은평구', 'zzeung@gmail.com', '본인'), (2, '이다겸', '010-2222-3333', '부산시', 'da@gmail.com', '친구'), (3, '정혜윤', '010-3333-4444', '부산시', 'yoon@gmail.com', '친구'), (4, '윤소윤', '010-4444-5555', '부산시', 'so@gamil.com', '친구'), (5, '신수진', '010-5555-6666', '부산시', 'jin@gmail.com', '친구'), (6, '안서현', '010-6666-7777', '서울시', 'seo@gmail.com', '친구'), (7, '문경희', '010-7777-8888', '서울시', 'moon@gmail.com', '친구'), (8, '양선주', '010-8888-9999', '부산시', 'joo@gmail.com', '친구'), (19, 'A22', '001-0001-0001', 'seoul', 'a22@naver.com', 'test2'), (20, 'AAA', '001-0001-0001', 'seoul', 'aaa@naver.com', 'test'), (21, 'BBB', '001-0002-0002', 'seoul', 'bbb@naver.com', 'test'), (22, 'CCC', '001-0003-0003', 'seoul', 'ccc@naver.com', 'test'), (23, 'DDD', '001-0004-0004', 'seoul', 'ddd@naver.com', 'test'), (24, 'FFF', '001-0005-0005', 'seoul', 'fff@naver.com', 'test'), (25, 'A11', '001-0001-0001', 'seoul', 'a11@naver.com', 'test1'), (26, 'B11', '001-0002-0002', 'seoul', 'b11@naver.com', 'test1'), (27, 'C11', '001-0003-0003', 'seoul', 'c11@naver.com', 'test1'), (28, 'D11', '001-0004-0004', 'seoul', 'd11@naver.com', 'test1'), (29, 'F11', '001-0005-0005', 'seoul', 'f11@naver.com', 'test1'))\n"
     ]
    }
   ],
   "source": [
    "# Data 보기\n",
    "sql = \"select * from userinfo\"\n",
    "curs.execute(sql)\n",
    "# Data Fetch\n",
    "rows = curs.fetchall()\n",
    "print(rows)"
   ]
  },
  {
   "cell_type": "code",
   "execution_count": 118,
   "metadata": {},
   "outputs": [],
   "source": [
    "# Connection 종료\n",
    "conn.close()"
   ]
  },
  {
   "cell_type": "markdown",
   "metadata": {},
   "source": [
    "----\n",
    "### Update Data"
   ]
  },
  {
   "cell_type": "code",
   "execution_count": 119,
   "metadata": {},
   "outputs": [],
   "source": [
    "# MySql connection\n",
    "conn = pymysql.connect(host=\"127.0.0.1\", user='root', password='qwer1234', db='useraddress', charset='utf8')\n",
    "\n",
    "# Connection으로부터 Cursor 생성\n",
    "curs = conn.cursor()"
   ]
  },
  {
   "cell_type": "code",
   "execution_count": 120,
   "metadata": {},
   "outputs": [],
   "source": [
    "# sql 문장\n",
    "sql = \"update userinfo set relation = 'pdata test용' where relation = 'test'\""
   ]
  },
  {
   "cell_type": "code",
   "execution_count": 121,
   "metadata": {},
   "outputs": [
    {
     "data": {
      "text/plain": [
       "5"
      ]
     },
     "execution_count": 121,
     "metadata": {},
     "output_type": "execute_result"
    }
   ],
   "source": [
    "curs.execute(sql)"
   ]
  },
  {
   "cell_type": "code",
   "execution_count": 122,
   "metadata": {},
   "outputs": [],
   "source": [
    "conn.commit()"
   ]
  },
  {
   "cell_type": "code",
   "execution_count": 123,
   "metadata": {},
   "outputs": [
    {
     "name": "stdout",
     "output_type": "stream",
     "text": [
      "((1, '김승희', '010-1111-2222', '서울시 은평구', 'zzeung@gmail.com', '본인'), (2, '이다겸', '010-2222-3333', '부산시', 'da@gmail.com', '친구'), (3, '정혜윤', '010-3333-4444', '부산시', 'yoon@gmail.com', '친구'), (4, '윤소윤', '010-4444-5555', '부산시', 'so@gamil.com', '친구'), (5, '신수진', '010-5555-6666', '부산시', 'jin@gmail.com', '친구'), (6, '안서현', '010-6666-7777', '서울시', 'seo@gmail.com', '친구'), (7, '문경희', '010-7777-8888', '서울시', 'moon@gmail.com', '친구'), (8, '양선주', '010-8888-9999', '부산시', 'joo@gmail.com', '친구'), (19, 'A22', '001-0001-0001', 'seoul', 'a22@naver.com', 'test2'), (20, 'AAA', '001-0001-0001', 'seoul', 'aaa@naver.com', 'pdata test용'), (21, 'BBB', '001-0002-0002', 'seoul', 'bbb@naver.com', 'pdata test용'), (22, 'CCC', '001-0003-0003', 'seoul', 'ccc@naver.com', 'pdata test용'), (23, 'DDD', '001-0004-0004', 'seoul', 'ddd@naver.com', 'pdata test용'), (24, 'FFF', '001-0005-0005', 'seoul', 'fff@naver.com', 'pdata test용'), (25, 'A11', '001-0001-0001', 'seoul', 'a11@naver.com', 'test1'), (26, 'B11', '001-0002-0002', 'seoul', 'b11@naver.com', 'test1'), (27, 'C11', '001-0003-0003', 'seoul', 'c11@naver.com', 'test1'), (28, 'D11', '001-0004-0004', 'seoul', 'd11@naver.com', 'test1'), (29, 'F11', '001-0005-0005', 'seoul', 'f11@naver.com', 'test1'))\n"
     ]
    }
   ],
   "source": [
    "# Data 보기\n",
    "sql = \"select * from userinfo\"\n",
    "curs.execute(sql)\n",
    "# Data Fetch\n",
    "rows = curs.fetchall()\n",
    "print(rows)"
   ]
  },
  {
   "cell_type": "code",
   "execution_count": 124,
   "metadata": {},
   "outputs": [],
   "source": [
    "# Connection 종료\n",
    "conn.close()"
   ]
  },
  {
   "cell_type": "markdown",
   "metadata": {},
   "source": [
    "----\n",
    "### Delete Data"
   ]
  },
  {
   "cell_type": "code",
   "execution_count": 125,
   "metadata": {},
   "outputs": [],
   "source": [
    "# MySql Connection\n",
    "conn = pymysql.connect(host='127.0.0.1', user='root', password ='qwer1234', \\\n",
    "                       db = 'useraddress', charset = 'utf8')\n",
    "# Connection으로 부터 Cursor 생성\n",
    "curs = conn.cursor()"
   ]
  },
  {
   "cell_type": "code",
   "execution_count": 126,
   "metadata": {},
   "outputs": [],
   "source": [
    "# sql 문장\n",
    "\n",
    "sql = \"delete from userinfo where name = %s\""
   ]
  },
  {
   "cell_type": "code",
   "execution_count": 127,
   "metadata": {},
   "outputs": [
    {
     "data": {
      "text/plain": [
       "1"
      ]
     },
     "execution_count": 127,
     "metadata": {},
     "output_type": "execute_result"
    }
   ],
   "source": [
    "# delete 실행\n",
    "curs.execute(sql, 'AAA')"
   ]
  },
  {
   "cell_type": "code",
   "execution_count": 128,
   "metadata": {},
   "outputs": [],
   "source": [
    "conn.commit()"
   ]
  },
  {
   "cell_type": "code",
   "execution_count": 129,
   "metadata": {},
   "outputs": [
    {
     "name": "stdout",
     "output_type": "stream",
     "text": [
      "((1, '김승희', '010-1111-2222', '서울시 은평구', 'zzeung@gmail.com', '본인'), (2, '이다겸', '010-2222-3333', '부산시', 'da@gmail.com', '친구'), (3, '정혜윤', '010-3333-4444', '부산시', 'yoon@gmail.com', '친구'), (4, '윤소윤', '010-4444-5555', '부산시', 'so@gamil.com', '친구'), (5, '신수진', '010-5555-6666', '부산시', 'jin@gmail.com', '친구'), (6, '안서현', '010-6666-7777', '서울시', 'seo@gmail.com', '친구'), (7, '문경희', '010-7777-8888', '서울시', 'moon@gmail.com', '친구'), (8, '양선주', '010-8888-9999', '부산시', 'joo@gmail.com', '친구'), (19, 'A22', '001-0001-0001', 'seoul', 'a22@naver.com', 'test2'), (21, 'BBB', '001-0002-0002', 'seoul', 'bbb@naver.com', 'pdata test용'), (22, 'CCC', '001-0003-0003', 'seoul', 'ccc@naver.com', 'pdata test용'), (23, 'DDD', '001-0004-0004', 'seoul', 'ddd@naver.com', 'pdata test용'), (24, 'FFF', '001-0005-0005', 'seoul', 'fff@naver.com', 'pdata test용'), (25, 'A11', '001-0001-0001', 'seoul', 'a11@naver.com', 'test1'), (26, 'B11', '001-0002-0002', 'seoul', 'b11@naver.com', 'test1'), (27, 'C11', '001-0003-0003', 'seoul', 'c11@naver.com', 'test1'), (28, 'D11', '001-0004-0004', 'seoul', 'd11@naver.com', 'test1'), (29, 'F11', '001-0005-0005', 'seoul', 'f11@naver.com', 'test1'))\n"
     ]
    }
   ],
   "source": [
    "# SQL 문장\n",
    "sql = \"select * from userinfo\"\n",
    "curs.execute(sql)\n",
    "# Data Fetch\n",
    "rows = curs.fetchall()\n",
    "print(rows)"
   ]
  },
  {
   "cell_type": "markdown",
   "metadata": {},
   "source": [
    "----\n",
    "### Insert 후 Selete 하기"
   ]
  },
  {
   "cell_type": "code",
   "execution_count": 130,
   "metadata": {},
   "outputs": [],
   "source": [
    "# MySql connection\n",
    "conn = pymysql.connect(host=\"127.0.0.1\", user='root', password='qwer1234', db='useraddress', charset='utf8')"
   ]
  },
  {
   "cell_type": "code",
   "execution_count": 131,
   "metadata": {},
   "outputs": [
    {
     "name": "stdout",
     "output_type": "stream",
     "text": [
      "((1, '김승희', '010-1111-2222', '서울시 은평구', 'zzeung@gmail.com', '본인'), (2, '이다겸', '010-2222-3333', '부산시', 'da@gmail.com', '친구'), (3, '정혜윤', '010-3333-4444', '부산시', 'yoon@gmail.com', '친구'), (4, '윤소윤', '010-4444-5555', '부산시', 'so@gamil.com', '친구'), (5, '신수진', '010-5555-6666', '부산시', 'jin@gmail.com', '친구'), (6, '안서현', '010-6666-7777', '서울시', 'seo@gmail.com', '친구'), (7, '문경희', '010-7777-8888', '서울시', 'moon@gmail.com', '친구'), (8, '양선주', '010-8888-9999', '부산시', 'joo@gmail.com', '친구'), (19, 'A22', '001-0001-0001', 'seoul', 'a22@naver.com', 'test2'), (21, 'BBB', '001-0002-0002', 'seoul', 'bbb@naver.com', 'pdata test용'), (22, 'CCC', '001-0003-0003', 'seoul', 'ccc@naver.com', 'pdata test용'), (23, 'DDD', '001-0004-0004', 'seoul', 'ddd@naver.com', 'pdata test용'), (24, 'FFF', '001-0005-0005', 'seoul', 'fff@naver.com', 'pdata test용'), (25, 'A11', '001-0001-0001', 'seoul', 'a11@naver.com', 'test1'), (26, 'B11', '001-0002-0002', 'seoul', 'b11@naver.com', 'test1'), (27, 'C11', '001-0003-0003', 'seoul', 'c11@naver.com', 'test1'), (28, 'D11', '001-0004-0004', 'seoul', 'd11@naver.com', 'test1'), (29, 'F11', '001-0005-0005', 'seoul', 'f11@naver.com', 'test1'), (30, 'A33', '001-0001-0001', 'seoul', 'a22@naver.com', 'test3'))\n"
     ]
    }
   ],
   "source": [
    "try :\n",
    "    # Insert\n",
    "    with conn.cursor() as curs :\n",
    "        sql = \"insert into userinfo(name, telno, address, email, relation) values (%s, %s, %s, %s, %s)\"\n",
    "        curs.execute(sql, ('A33', '001-0001-0001', 'seoul', 'a22@naver.com', 'test3'))\n",
    "    conn.commit()\n",
    "    \n",
    "    # Select\n",
    "    with conn.cursor() as curs :\n",
    "        sql = \"select * from userinfo\"\n",
    "        curs.execute(sql)\n",
    "        rows = curs.fetchall()\n",
    "        print(rows)\n",
    "\n",
    "finally:\n",
    "    conn.close()"
   ]
  },
  {
   "cell_type": "markdown",
   "metadata": {},
   "source": [
    "----\n",
    "### select의 내용을 dataframe으로 보기"
   ]
  },
  {
   "cell_type": "code",
   "execution_count": 73,
   "metadata": {},
   "outputs": [],
   "source": [
    "#pip install sqlalchemy\n",
    "from sqlalchemy import create_engine\n",
    "import pandas as pd"
   ]
  },
  {
   "cell_type": "code",
   "execution_count": 78,
   "metadata": {},
   "outputs": [],
   "source": [
    "engine = create_engine(\"mysql+pymysql://root:\" + \"qwer1234\" + \"@127.0.0.1:3306/useraddress?\", convert_unicode = True)\n",
    "conn = engine.connect()"
   ]
  },
  {
   "cell_type": "code",
   "execution_count": 79,
   "metadata": {},
   "outputs": [
    {
     "data": {
      "text/html": [
       "<div>\n",
       "<style scoped>\n",
       "    .dataframe tbody tr th:only-of-type {\n",
       "        vertical-align: middle;\n",
       "    }\n",
       "\n",
       "    .dataframe tbody tr th {\n",
       "        vertical-align: top;\n",
       "    }\n",
       "\n",
       "    .dataframe thead th {\n",
       "        text-align: right;\n",
       "    }\n",
       "</style>\n",
       "<table border=\"1\" class=\"dataframe\">\n",
       "  <thead>\n",
       "    <tr style=\"text-align: right;\">\n",
       "      <th></th>\n",
       "      <th>seqno</th>\n",
       "      <th>name</th>\n",
       "      <th>telno</th>\n",
       "      <th>address</th>\n",
       "      <th>email</th>\n",
       "      <th>relation</th>\n",
       "    </tr>\n",
       "  </thead>\n",
       "  <tbody>\n",
       "    <tr>\n",
       "      <th>0</th>\n",
       "      <td>1</td>\n",
       "      <td>김승희</td>\n",
       "      <td>010-1111-2222</td>\n",
       "      <td>서울시 은평구</td>\n",
       "      <td>zzeung@gmail.com</td>\n",
       "      <td>본인</td>\n",
       "    </tr>\n",
       "    <tr>\n",
       "      <th>1</th>\n",
       "      <td>2</td>\n",
       "      <td>이다겸</td>\n",
       "      <td>010-2222-3333</td>\n",
       "      <td>부산시</td>\n",
       "      <td>da@gmail.com</td>\n",
       "      <td>친구</td>\n",
       "    </tr>\n",
       "    <tr>\n",
       "      <th>2</th>\n",
       "      <td>3</td>\n",
       "      <td>정혜윤</td>\n",
       "      <td>010-3333-4444</td>\n",
       "      <td>부산시</td>\n",
       "      <td>yoon@gmail.com</td>\n",
       "      <td>친구</td>\n",
       "    </tr>\n",
       "    <tr>\n",
       "      <th>3</th>\n",
       "      <td>4</td>\n",
       "      <td>윤소윤</td>\n",
       "      <td>010-4444-5555</td>\n",
       "      <td>부산시</td>\n",
       "      <td>so@gamil.com</td>\n",
       "      <td>친구</td>\n",
       "    </tr>\n",
       "    <tr>\n",
       "      <th>4</th>\n",
       "      <td>5</td>\n",
       "      <td>신수진</td>\n",
       "      <td>010-5555-6666</td>\n",
       "      <td>부산시</td>\n",
       "      <td>jin@gmail.com</td>\n",
       "      <td>친구</td>\n",
       "    </tr>\n",
       "    <tr>\n",
       "      <th>5</th>\n",
       "      <td>6</td>\n",
       "      <td>안서현</td>\n",
       "      <td>010-6666-7777</td>\n",
       "      <td>서울시</td>\n",
       "      <td>seo@gmail.com</td>\n",
       "      <td>친구</td>\n",
       "    </tr>\n",
       "    <tr>\n",
       "      <th>6</th>\n",
       "      <td>7</td>\n",
       "      <td>문경희</td>\n",
       "      <td>010-7777-8888</td>\n",
       "      <td>서울시</td>\n",
       "      <td>moon@gmail.com</td>\n",
       "      <td>친구</td>\n",
       "    </tr>\n",
       "    <tr>\n",
       "      <th>7</th>\n",
       "      <td>8</td>\n",
       "      <td>양선주</td>\n",
       "      <td>010-8888-9999</td>\n",
       "      <td>부산시</td>\n",
       "      <td>joo@gmail.com</td>\n",
       "      <td>친구</td>\n",
       "    </tr>\n",
       "    <tr>\n",
       "      <th>8</th>\n",
       "      <td>19</td>\n",
       "      <td>A22</td>\n",
       "      <td>001-0001-0001</td>\n",
       "      <td>seoul</td>\n",
       "      <td>a22@naver.com</td>\n",
       "      <td>test2</td>\n",
       "    </tr>\n",
       "  </tbody>\n",
       "</table>\n",
       "</div>"
      ],
      "text/plain": [
       "   seqno name          telno  address             email relation\n",
       "0      1  김승희  010-1111-2222  서울시 은평구  zzeung@gmail.com       본인\n",
       "1      2  이다겸  010-2222-3333      부산시      da@gmail.com       친구\n",
       "2      3  정혜윤  010-3333-4444      부산시    yoon@gmail.com       친구\n",
       "3      4  윤소윤  010-4444-5555      부산시      so@gamil.com       친구\n",
       "4      5  신수진  010-5555-6666      부산시     jin@gmail.com       친구\n",
       "5      6  안서현  010-6666-7777      서울시     seo@gmail.com       친구\n",
       "6      7  문경희  010-7777-8888      서울시    moon@gmail.com       친구\n",
       "7      8  양선주  010-8888-9999      부산시     joo@gmail.com       친구\n",
       "8     19  A22  001-0001-0001    seoul     a22@naver.com    test2"
      ]
     },
     "execution_count": 79,
     "metadata": {},
     "output_type": "execute_result"
    }
   ],
   "source": [
    "data = pd.read_sql_table(\"userinfo\", conn)\n",
    "data"
   ]
  },
  {
   "cell_type": "code",
   "execution_count": 80,
   "metadata": {},
   "outputs": [],
   "source": [
    "conn.close()"
   ]
  },
  {
   "cell_type": "markdown",
   "metadata": {},
   "source": [
    "### dataframe을 Database로 Insert하기"
   ]
  },
  {
   "cell_type": "code",
   "execution_count": 77,
   "metadata": {},
   "outputs": [
    {
     "data": {
      "text/html": [
       "<div>\n",
       "<style scoped>\n",
       "    .dataframe tbody tr th:only-of-type {\n",
       "        vertical-align: middle;\n",
       "    }\n",
       "\n",
       "    .dataframe tbody tr th {\n",
       "        vertical-align: top;\n",
       "    }\n",
       "\n",
       "    .dataframe thead th {\n",
       "        text-align: right;\n",
       "    }\n",
       "</style>\n",
       "<table border=\"1\" class=\"dataframe\">\n",
       "  <thead>\n",
       "    <tr style=\"text-align: right;\">\n",
       "      <th></th>\n",
       "      <th>index</th>\n",
       "      <th>title</th>\n",
       "    </tr>\n",
       "  </thead>\n",
       "  <tbody>\n",
       "    <tr>\n",
       "      <th>0</th>\n",
       "      <td>1</td>\n",
       "      <td>다만 악에서 구하소서</td>\n",
       "    </tr>\n",
       "    <tr>\n",
       "      <th>1</th>\n",
       "      <td>2</td>\n",
       "      <td>오케이 마담</td>\n",
       "    </tr>\n",
       "    <tr>\n",
       "      <th>2</th>\n",
       "      <td>3</td>\n",
       "      <td>강철비2: 정상회담</td>\n",
       "    </tr>\n",
       "    <tr>\n",
       "      <th>3</th>\n",
       "      <td>4</td>\n",
       "      <td>인셉션</td>\n",
       "    </tr>\n",
       "    <tr>\n",
       "      <th>4</th>\n",
       "      <td>5</td>\n",
       "      <td>반도</td>\n",
       "    </tr>\n",
       "  </tbody>\n",
       "</table>\n",
       "</div>"
      ],
      "text/plain": [
       "   index        title\n",
       "0      1  다만 악에서 구하소서\n",
       "1      2       오케이 마담\n",
       "2      3   강철비2: 정상회담\n",
       "3      4          인셉션\n",
       "4      5           반도"
      ]
     },
     "execution_count": 77,
     "metadata": {},
     "output_type": "execute_result"
    }
   ],
   "source": [
    "column = ['index', 'title']\n",
    "movies = pd.read_csv(\"../Data/DaumList_2020_08_18.csv\")\n",
    "movies.columns = column\n",
    "movies.head()"
   ]
  },
  {
   "cell_type": "code",
   "execution_count": 85,
   "metadata": {},
   "outputs": [],
   "source": [
    "engine = create_engine(\"mysql+pymysql://root:\" + \"qwer1234\" + \"@127.0.0.1:3306/useraddress?\", convert_unicode = True)\n",
    "conn = engine.connect()"
   ]
  },
  {
   "cell_type": "code",
   "execution_count": 86,
   "metadata": {},
   "outputs": [],
   "source": [
    "movies.to_sql(name='daumlist', con=engine, if_exists='append', index=False)"
   ]
  },
  {
   "cell_type": "markdown",
   "metadata": {},
   "source": [
    "### Rotten 해보기"
   ]
  },
  {
   "cell_type": "code",
   "execution_count": 95,
   "metadata": {},
   "outputs": [
    {
     "data": {
      "text/html": [
       "<div>\n",
       "<style scoped>\n",
       "    .dataframe tbody tr th:only-of-type {\n",
       "        vertical-align: middle;\n",
       "    }\n",
       "\n",
       "    .dataframe tbody tr th {\n",
       "        vertical-align: top;\n",
       "    }\n",
       "\n",
       "    .dataframe thead th {\n",
       "        text-align: right;\n",
       "    }\n",
       "</style>\n",
       "<table border=\"1\" class=\"dataframe\">\n",
       "  <thead>\n",
       "    <tr style=\"text-align: right;\">\n",
       "      <th></th>\n",
       "      <th>index</th>\n",
       "      <th>title</th>\n",
       "      <th>year</th>\n",
       "    </tr>\n",
       "  </thead>\n",
       "  <tbody>\n",
       "    <tr>\n",
       "      <th>0</th>\n",
       "      <td>1</td>\n",
       "      <td>Parasite (Gisaengchung)</td>\n",
       "      <td>2019</td>\n",
       "    </tr>\n",
       "    <tr>\n",
       "      <th>1</th>\n",
       "      <td>2</td>\n",
       "      <td>Avengers: Endgame</td>\n",
       "      <td>2019</td>\n",
       "    </tr>\n",
       "    <tr>\n",
       "      <th>2</th>\n",
       "      <td>3</td>\n",
       "      <td>Knives Out</td>\n",
       "      <td>2019</td>\n",
       "    </tr>\n",
       "    <tr>\n",
       "      <th>3</th>\n",
       "      <td>4</td>\n",
       "      <td>Us</td>\n",
       "      <td>2019</td>\n",
       "    </tr>\n",
       "    <tr>\n",
       "      <th>4</th>\n",
       "      <td>5</td>\n",
       "      <td>Toy Story 4</td>\n",
       "      <td>2019</td>\n",
       "    </tr>\n",
       "  </tbody>\n",
       "</table>\n",
       "</div>"
      ],
      "text/plain": [
       "   index                    title  year\n",
       "0      1  Parasite (Gisaengchung)  2019\n",
       "1      2        Avengers: Endgame  2019\n",
       "2      3               Knives Out  2019\n",
       "3      4                       Us  2019\n",
       "4      5              Toy Story 4  2019"
      ]
     },
     "execution_count": 95,
     "metadata": {},
     "output_type": "execute_result"
    }
   ],
   "source": [
    "column = ['index', 'title', 'year']\n",
    "movies = pd.read_csv(\"../Data/RottenList_2019.csv\")\n",
    "movies.columns = column\n",
    "movies.head()"
   ]
  },
  {
   "cell_type": "code",
   "execution_count": 96,
   "metadata": {},
   "outputs": [],
   "source": [
    "engine = create_engine(\"mysql+pymysql://root:\" + \"qwer1234\" + \"@127.0.0.1:3306/movies?\", convert_unicode = True)\n",
    "conn = engine.connect()"
   ]
  },
  {
   "cell_type": "code",
   "execution_count": 97,
   "metadata": {},
   "outputs": [],
   "source": [
    "movies.to_sql(name='rottenlist', con=engine, if_exists='append', index=False)"
   ]
  }
 ],
 "metadata": {
  "kernelspec": {
   "display_name": "Python 3",
   "language": "python",
   "name": "python3"
  },
  "language_info": {
   "codemirror_mode": {
    "name": "ipython",
    "version": 3
   },
   "file_extension": ".py",
   "mimetype": "text/x-python",
   "name": "python",
   "nbconvert_exporter": "python",
   "pygments_lexer": "ipython3",
   "version": "3.8.3"
  }
 },
 "nbformat": 4,
 "nbformat_minor": 4
}
