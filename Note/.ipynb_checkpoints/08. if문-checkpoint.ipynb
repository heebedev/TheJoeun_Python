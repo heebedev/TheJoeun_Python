{
 "cells": [
  {
   "cell_type": "code",
   "execution_count": null,
   "metadata": {},
   "outputs": [],
   "source": [
    "#난수 값이 50보다 큰 수 인지 확인하기\n",
    "from random import randint"
   ]
  },
  {
   "cell_type": "code",
   "execution_count": null,
   "metadata": {},
   "outputs": [],
   "source": [
    "randint(1,100)"
   ]
  },
  {
   "cell_type": "code",
   "execution_count": null,
   "metadata": {},
   "outputs": [],
   "source": [
    "#if문만 사용\n",
    "x = randint(1,100)\n",
    "\n",
    "if x > 50:\n",
    "    print(\"x is greater than 50\")\n",
    "\n",
    "print(\"===end===\")"
   ]
  },
  {
   "cell_type": "code",
   "execution_count": 16,
   "metadata": {},
   "outputs": [
    {
     "name": "stdout",
     "output_type": "stream",
     "text": [
      "33\n",
      "x is less or equal to 50\n",
      "===end===\n"
     ]
    }
   ],
   "source": [
    "#if와 else 사용\n",
    "x = randint(1,100)\n",
    "print(x)\n",
    "\n",
    "if x > 50:\n",
    "    print(\"x is greater than 50\")\n",
    "else :\n",
    "    print(\"x is less or equal to 50\")\n",
    "\n",
    "print(\"===end===\")"
   ]
  },
  {
   "cell_type": "code",
   "execution_count": 17,
   "metadata": {},
   "outputs": [
    {
     "name": "stdout",
     "output_type": "stream",
     "text": [
      "x is odd\n"
     ]
    }
   ],
   "source": [
    "# 홀수 짝수 구분\n",
    "\n",
    "x = 9\n",
    "\n",
    "if x % 2 == 0 :\n",
    "    print(\"x is even\")\n",
    "else :\n",
    "    print(\"x is odd\")"
   ]
  },
  {
   "cell_type": "code",
   "execution_count": 19,
   "metadata": {},
   "outputs": [
    {
     "name": "stdout",
     "output_type": "stream",
     "text": [
      "숫자를 입력하세요: 12\n"
     ]
    },
    {
     "data": {
      "text/plain": [
       "int"
      ]
     },
     "execution_count": 19,
     "metadata": {},
     "output_type": "execute_result"
    }
   ],
   "source": [
    "#사용자로부터 숫자 입력 받기\n",
    "number = int(input(\"숫자를 입력하세요: \"))\n",
    "type(number)"
   ]
  },
  {
   "cell_type": "code",
   "execution_count": 21,
   "metadata": {},
   "outputs": [
    {
     "name": "stdout",
     "output_type": "stream",
     "text": [
      "숫자를 입력하세요: 13\n",
      "x는 홀수입니다.\n"
     ]
    }
   ],
   "source": [
    "#사용자로부터 정수를 입력받아 홀, 짝수 구분\n",
    "\n",
    "x = int(input(\"숫자를 입력하세요: \"))\n",
    "\n",
    "if x % 2 == 0 :\n",
    "    print(\"x는 짝수입니다.\")\n",
    "else :\n",
    "    print(\"x는 홀수입니다.\")"
   ]
  },
  {
   "cell_type": "code",
   "execution_count": null,
   "metadata": {},
   "outputs": [],
   "source": [
    "# 사용자로부터 점수를 입력받아 학점 계산하기\n",
    "\n",
    "score = int(input(\"점수를 입력하세요: \"))\n",
    "\n",
    "if score >= 90 :\n",
    "    print('점수는', score, '이고 A학점 입니다.')\n",
    "elif score >= 80 :\n",
    "    print('점수는', score, '이고 B학점 입니다.')\n",
    "elif score >= 70 :\n",
    "    print('점수는', score, '이고 C학점 입니다.')\n",
    "elif score >= 60 :\n",
    "    print('점수는', score, '이고 D학점 입니다.')\n",
    "else :\n",
    "    print('점수는', score, '이고 F학점 입니다.')\n",
    "    "
   ]
  },
  {
   "cell_type": "code",
   "execution_count": 3,
   "metadata": {},
   "outputs": [
    {
     "name": "stdout",
     "output_type": "stream",
     "text": [
      "숫자를 입력하세요: 25\n",
      "5.0\n"
     ]
    }
   ],
   "source": [
    "# 사용자로부터 숫자를 입력받아 5의 배수이면 제곱근을 출력하고 아니면 원래 수를 출력\n",
    "from math import sqrt\n",
    "\n",
    "num = int(input(\"숫자를 입력하세요: \"))\n",
    "\n",
    "if num % 5 == 0 :\n",
    "    print(sqrt(num))\n",
    "else :\n",
    "    print(num)"
   ]
  },
  {
   "cell_type": "code",
   "execution_count": 4,
   "metadata": {},
   "outputs": [
    {
     "name": "stdout",
     "output_type": "stream",
     "text": [
      "신용카드를 사용한 택시타기\n",
      "----- End -----\n"
     ]
    }
   ],
   "source": [
    "#list의 내용을 if문으로 확인하기\n",
    "\n",
    "pocket = ['paper', 'smartphone']\n",
    "card = 1\n",
    "\n",
    "if 'money' in pocket :\n",
    "    print(\"현금으로 택시타기\")\n",
    "elif card :\n",
    "    print(\"신용카드를 사용한 택시타기\")\n",
    "else :\n",
    "    print(\"튼튼한 다리를 사용!\")\n",
    "    \n",
    "print(\"----- End -----\")"
   ]
  },
  {
   "cell_type": "code",
   "execution_count": 6,
   "metadata": {},
   "outputs": [
    {
     "name": "stdout",
     "output_type": "stream",
     "text": [
      "튼튼한 다리를 사용!\n",
      "----- End -----\n"
     ]
    }
   ],
   "source": [
    "#list의 내용을 if문으로 확인하기    0 : false, 0 제외 : true\n",
    "\n",
    "pocket = ['paper', 'smartphone']\n",
    "card = 0\n",
    "\n",
    "if 'money' in pocket :\n",
    "    print(\"현금으로 택시타기\")\n",
    "elif card :\n",
    "    print(\"신용카드를 사용한 택시타기\")\n",
    "else :\n",
    "    print(\"튼튼한 다리를 사용!\")\n",
    "    \n",
    "print(\"----- End -----\")"
   ]
  },
  {
   "cell_type": "code",
   "execution_count": null,
   "metadata": {},
   "outputs": [],
   "source": []
  }
 ],
 "metadata": {
  "kernelspec": {
   "display_name": "Python 3",
   "language": "python",
   "name": "python3"
  },
  "language_info": {
   "codemirror_mode": {
    "name": "ipython",
    "version": 3
   },
   "file_extension": ".py",
   "mimetype": "text/x-python",
   "name": "python",
   "nbconvert_exporter": "python",
   "pygments_lexer": "ipython3",
   "version": "3.8.3"
  }
 },
 "nbformat": 4,
 "nbformat_minor": 4
}
