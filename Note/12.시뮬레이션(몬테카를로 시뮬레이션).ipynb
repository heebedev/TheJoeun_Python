{
 "cells": [
  {
   "cell_type": "markdown",
   "metadata": {},
   "source": [
    "# 시뮬레이션\n",
    ": 자료가 없을 경우 난수를 통해 가설을 증명"
   ]
  },
  {
   "cell_type": "code",
   "execution_count": 1,
   "metadata": {},
   "outputs": [],
   "source": [
    "# 동전의 앞면과 뒷면이 나올 확률이 같다는 것을 증명\n",
    "import random"
   ]
  },
  {
   "cell_type": "code",
   "execution_count": 2,
   "metadata": {},
   "outputs": [
    {
     "data": {
      "text/plain": [
       "8"
      ]
     },
     "execution_count": 2,
     "metadata": {},
     "output_type": "execute_result"
    }
   ],
   "source": [
    "random.randint(1,10)"
   ]
  },
  {
   "cell_type": "code",
   "execution_count": 7,
   "metadata": {},
   "outputs": [
    {
     "name": "stdout",
     "output_type": "stream",
     "text": [
      "뒷면\n"
     ]
    }
   ],
   "source": [
    "x = random.randint(1,2)\n",
    "if x == 1 :\n",
    "    result = \"앞면\"\n",
    "else :\n",
    "    result = \"뒷면\"\n",
    "    \n",
    "print(result)\n",
    "    "
   ]
  },
  {
   "cell_type": "code",
   "execution_count": null,
   "metadata": {},
   "outputs": [],
   "source": [
    "#동전의 앞면과 뒷면 결과값을 함수로 만들기"
   ]
  },
  {
   "cell_type": "code",
   "execution_count": 13,
   "metadata": {},
   "outputs": [],
   "source": [
    "def coinF(trynum) :\n",
    "    head = 0;\n",
    "    tail = 0;\n",
    "    for i in range(1,trynum+1) :\n",
    "        x = random.randint(1,2)\n",
    "        if x == 1 : head += 1\n",
    "        else : tail += 1\n",
    "    print(\"%8d번 시도시 동전의 앞면은 %8d번이고 동전의 뒷면은 %8d번 입니다.\"%(trynum, head, tail))"
   ]
  },
  {
   "cell_type": "code",
   "execution_count": 16,
   "metadata": {},
   "outputs": [
    {
     "name": "stdout",
     "output_type": "stream",
     "text": [
      "      10번 시도시 동전의 앞면은        7번이고 동전의 뒷면은        3번 입니다.\n",
      "     100번 시도시 동전의 앞면은       46번이고 동전의 뒷면은       54번 입니다.\n",
      "    1000번 시도시 동전의 앞면은      495번이고 동전의 뒷면은      505번 입니다.\n",
      "   10000번 시도시 동전의 앞면은     5028번이고 동전의 뒷면은     4972번 입니다.\n",
      "  100000번 시도시 동전의 앞면은    50132번이고 동전의 뒷면은    49868번 입니다.\n",
      " 1000000번 시도시 동전의 앞면은   499802번이고 동전의 뒷면은   500198번 입니다.\n"
     ]
    }
   ],
   "source": [
    "coinF(10)\n",
    "coinF(100)\n",
    "coinF(1000)\n",
    "coinF(10000)\n",
    "coinF(100000)\n",
    "coinF(1000000)"
   ]
  },
  {
   "cell_type": "code",
   "execution_count": 19,
   "metadata": {
    "scrolled": true
   },
   "outputs": [
    {
     "name": "stdout",
     "output_type": "stream",
     "text": [
      "10000000번 시도시 동전의 앞면은  4997901번이고 동전의 뒷면은  5002099번 입니다.\n"
     ]
    }
   ],
   "source": [
    "coinF(10000000)"
   ]
  },
  {
   "cell_type": "code",
   "execution_count": 20,
   "metadata": {},
   "outputs": [],
   "source": [
    "def rsfTest(trynum) :\n",
    "    rock = 0;\n",
    "    scissors = 0;\n",
    "    paper = 0;\n",
    "    for i in range(1,trynum+1) :\n",
    "        x = random.randint(1,3)\n",
    "        if x == 1 : rock += 1\n",
    "        elif x == 2 : scissors += 1\n",
    "        else : paper += 1\n",
    "    print(\"%8d번 시도시 가위는 %8d번이고 바위는 %8d번이며 보는 %8d번 입니다.\"%(trynum, rock, scissors, paper))"
   ]
  },
  {
   "cell_type": "code",
   "execution_count": 21,
   "metadata": {},
   "outputs": [
    {
     "name": "stdout",
     "output_type": "stream",
     "text": [
      "      10번 시도시 가위는        5번이고 바위는        3번이며 보는        2번 입니다.\n",
      "     100번 시도시 가위는       37번이고 바위는       34번이며 보는       29번 입니다.\n",
      "    1000번 시도시 가위는      336번이고 바위는      344번이며 보는      320번 입니다.\n",
      "   10000번 시도시 가위는     3322번이고 바위는     3423번이며 보는     3255번 입니다.\n",
      "  100000번 시도시 가위는    33193번이고 바위는    33530번이며 보는    33277번 입니다.\n",
      " 1000000번 시도시 가위는   332249번이고 바위는   334002번이며 보는   333749번 입니다.\n",
      "10000000번 시도시 가위는  3333461번이고 바위는  3333609번이며 보는  3332930번 입니다.\n"
     ]
    }
   ],
   "source": [
    "rsfTest(10)\n",
    "rsfTest(100)\n",
    "rsfTest(1000)\n",
    "rsfTest(10000)\n",
    "rsfTest(100000)\n",
    "rsfTest(1000000)\n",
    "rsfTest(10000000)"
   ]
  },
  {
   "cell_type": "code",
   "execution_count": 24,
   "metadata": {},
   "outputs": [
    {
     "name": "stdout",
     "output_type": "stream",
     "text": [
      "몇 단을 출력하시겠습니까?8\n",
      "-------------------------\n",
      "8 X 1 =  8  :  8 X 2 = 16\n",
      "8 X 3 = 24  :  8 X 4 = 32\n",
      "8 X 5 = 40  :  8 X 6 = 48\n",
      "8 X 7 = 56  :  8 X 8 = 64\n"
     ]
    }
   ],
   "source": [
    "dan = int(input(\"몇 단을 출력하시겠습니까?\"))\n",
    "print(\"-------------------------\")\n",
    "\n",
    "for i in range(1,9,2) :\n",
    "    print(\"%d X %d = %2d  :  %d X %d = %2d\"%(dan, i, dan*i, dan, (i+1), dan*(i+1)))\n",
    "      "
   ]
  },
  {
   "cell_type": "code",
   "execution_count": 27,
   "metadata": {},
   "outputs": [
    {
     "name": "stdout",
     "output_type": "stream",
     "text": [
      "몇 단을 출력하시겠습니까?8\n",
      "-------------------------\n",
      "8 X 1 =  8  :  8 X 2 = 16\n",
      "8 X 3 = 24  :  8 X 4 = 32\n",
      "8 X 5 = 40  :  8 X 6 = 48\n",
      "8 X 7 = 56  :  8 X 8 = 64\n"
     ]
    }
   ],
   "source": [
    "#선생님 답\n",
    "\n",
    "dan = int(input(\"몇 단을 출력하시겠습니까?\"))\n",
    "print(\"-------------------------\")\n",
    "\n",
    "for i in range(1,9) :\n",
    "    if i % 2 == 1 :\n",
    "        print(\"%d X %d = %2d\"%(dan, i, dan*i), end=\"  :  \" )\n",
    "    else : print(\"%d X %d = %2d\"%(dan, i, dan*i))"
   ]
  },
  {
   "cell_type": "code",
   "execution_count": null,
   "metadata": {},
   "outputs": [],
   "source": []
  },
  {
   "cell_type": "code",
   "execution_count": null,
   "metadata": {},
   "outputs": [],
   "source": []
  },
  {
   "cell_type": "code",
   "execution_count": null,
   "metadata": {},
   "outputs": [],
   "source": []
  },
  {
   "cell_type": "code",
   "execution_count": null,
   "metadata": {},
   "outputs": [],
   "source": []
  }
 ],
 "metadata": {
  "kernelspec": {
   "display_name": "Python 3",
   "language": "python",
   "name": "python3"
  },
  "language_info": {
   "codemirror_mode": {
    "name": "ipython",
    "version": 3
   },
   "file_extension": ".py",
   "mimetype": "text/x-python",
   "name": "python",
   "nbconvert_exporter": "python",
   "pygments_lexer": "ipython3",
   "version": "3.8.3"
  }
 },
 "nbformat": 4,
 "nbformat_minor": 4
}
