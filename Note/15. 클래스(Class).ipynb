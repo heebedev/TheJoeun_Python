{
 "cells": [
  {
   "cell_type": "code",
   "execution_count": 1,
   "metadata": {},
   "outputs": [],
   "source": [
    "# class 선언\n",
    "\n",
    "class Services:\n",
    "    secret = \"임금님 귀는 당나귀 귀다!\""
   ]
  },
  {
   "cell_type": "code",
   "execution_count": 5,
   "metadata": {},
   "outputs": [],
   "source": [
    "# instance 사용하기\n",
    "\n",
    "instance01 = Services()"
   ]
  },
  {
   "cell_type": "code",
   "execution_count": 6,
   "metadata": {},
   "outputs": [
    {
     "name": "stdout",
     "output_type": "stream",
     "text": [
      "임금님 귀는 당나귀 귀다!\n"
     ]
    }
   ],
   "source": [
    "print(instance01.secret)"
   ]
  },
  {
   "cell_type": "code",
   "execution_count": 10,
   "metadata": {},
   "outputs": [],
   "source": [
    "class Services:\n",
    "    secret = \"임금님 귀는 당나귀 귀다!\"\n",
    "    \n",
    "    def sum2(self, num01, num02) :\n",
    "        result = num01 + num02\n",
    "        print(\"%d + %d = %d입니다.\"%(num01, num02, result))"
   ]
  },
  {
   "cell_type": "code",
   "execution_count": 11,
   "metadata": {},
   "outputs": [
    {
     "data": {
      "text/plain": [
       "'임금님 귀는 당나귀 귀다!'"
      ]
     },
     "execution_count": 11,
     "metadata": {},
     "output_type": "execute_result"
    }
   ],
   "source": [
    "instance02 = Services()\n",
    "instance02.secret"
   ]
  },
  {
   "cell_type": "code",
   "execution_count": 12,
   "metadata": {},
   "outputs": [
    {
     "name": "stdout",
     "output_type": "stream",
     "text": [
      "2 + 3 = 5입니다.\n"
     ]
    }
   ],
   "source": [
    "instance02.sum2(2,3)"
   ]
  },
  {
   "cell_type": "code",
   "execution_count": 13,
   "metadata": {},
   "outputs": [],
   "source": [
    "class Services:\n",
    "    secret = \"임금님 귀는 당나귀 귀다!\"\n",
    "    \n",
    "    def setname(self, name) :\n",
    "        self.name = name\n",
    "    def sum2(self, num01, num02) :\n",
    "        result = num01 + num02\n",
    "        print(\"%s님! %d + %d = %d입니다.\"%(self.name, num01, num02, result))"
   ]
  },
  {
   "cell_type": "code",
   "execution_count": 14,
   "metadata": {},
   "outputs": [
    {
     "name": "stdout",
     "output_type": "stream",
     "text": [
      "희야님! 2 + 3 = 5입니다.\n"
     ]
    }
   ],
   "source": [
    "instance03 = Services()\n",
    "\n",
    "instance03.setname(\"희야\")\n",
    "instance03.sum2(2,3)"
   ]
  },
  {
   "cell_type": "code",
   "execution_count": 15,
   "metadata": {},
   "outputs": [],
   "source": [
    "class Services:\n",
    "    secret = \"임금님 귀는 당나귀 귀다!\"\n",
    "    def __init__(self, name) :\n",
    "        self.name = name\n",
    "    \n",
    "    def sum2(self, num01, num02) :\n",
    "        result = num01 + num02\n",
    "        print(\"%s님! %d + %d = %d입니다.\"%(self.name, num01, num02, result))"
   ]
  },
  {
   "cell_type": "code",
   "execution_count": 16,
   "metadata": {},
   "outputs": [
    {
     "name": "stdout",
     "output_type": "stream",
     "text": [
      "임금님 귀는 당나귀 귀다!\n",
      "관우님! 2 + 3 = 5입니다.\n"
     ]
    }
   ],
   "source": [
    "instance04 = Services(\"관우\")\n",
    "print(instance04.secret)\n",
    "instance04.sum2(2,3)"
   ]
  },
  {
   "cell_type": "code",
   "execution_count": 24,
   "metadata": {},
   "outputs": [],
   "source": [
    "# 사칙 연산 클래스 만들기\n",
    "\n",
    "class Calc :\n",
    "    def __init__(self, num1, num2) :\n",
    "        self.num1 = num1\n",
    "        self.num2 = num2\n",
    "        \n",
    "    def sum(self) :\n",
    "        return self.num1 + self.num2\n",
    "    \n",
    "    def mul(self) :\n",
    "        return self.num1 * self.num2\n",
    "    \n",
    "    def sub(self) :\n",
    "        return self.num1 - self.num2\n",
    "    \n",
    "    def div(self) :\n",
    "        return self.num1 / self.num2"
   ]
  },
  {
   "cell_type": "code",
   "execution_count": 25,
   "metadata": {},
   "outputs": [
    {
     "name": "stdout",
     "output_type": "stream",
     "text": [
      "덧셈: 6\n",
      "곱셈: 8\n",
      "뺄셈: 2\n",
      "나눗셈: 2.0\n"
     ]
    }
   ],
   "source": [
    "calc01 = Calc(4,2)\n",
    "print('덧셈:', calc01.sum())\n",
    "print('곱셈:', calc01.mul())\n",
    "print('뺄셈:', calc01.sub())\n",
    "print('나눗셈:', calc01.div())"
   ]
  },
  {
   "cell_type": "code",
   "execution_count": null,
   "metadata": {},
   "outputs": [],
   "source": []
  },
  {
   "cell_type": "code",
   "execution_count": null,
   "metadata": {},
   "outputs": [],
   "source": []
  }
 ],
 "metadata": {
  "kernelspec": {
   "display_name": "Python 3",
   "language": "python",
   "name": "python3"
  },
  "language_info": {
   "codemirror_mode": {
    "name": "ipython",
    "version": 3
   },
   "file_extension": ".py",
   "mimetype": "text/x-python",
   "name": "python",
   "nbconvert_exporter": "python",
   "pygments_lexer": "ipython3",
   "version": "3.8.3"
  }
 },
 "nbformat": 4,
 "nbformat_minor": 4
}
